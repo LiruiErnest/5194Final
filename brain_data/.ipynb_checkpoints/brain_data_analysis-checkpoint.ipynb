{
 "cells": [
  {
   "cell_type": "code",
   "execution_count": 40,
   "metadata": {},
   "outputs": [],
   "source": [
    "import pandas as pd\n",
    "import random\n",
    "import os\n",
    "import math\n",
    "import random\n",
    "from collections import Counter\n",
    "import json\n",
    "import seaborn as sns"
   ]
  },
  {
   "cell_type": "markdown",
   "metadata": {},
   "source": [
    "eswc: label format\n",
    "\n",
    "n: the id of data point\n",
    "type: 属于哪种类型：1:体细胞 2：轴突 3. 树突\n",
    "x,y,z: 空间位置\n",
    "radius: 半径 (VR:1, desktop: float)\n",
    "parent: -1: root node, else: parent node"
   ]
  },
  {
   "cell_type": "code",
   "execution_count": 88,
   "metadata": {
    "code_folding": [
     0,
     44
    ]
   },
   "outputs": [
    {
     "name": "stdout",
     "output_type": "stream",
     "text": [
      "14872.413 27956.0\n",
      "10953.0 39306.02\n",
      "2582.0 6795.0\n",
      "15000 27000\n",
      "11000 39000\n",
      "3000 6000\n",
      "number of slices:  259\n"
     ]
    }
   ],
   "source": [
    "def parse_data(data_path, node_id_prefix):\n",
    "    '''\n",
    "    @data_path: the path of data\n",
    "    '''\n",
    "    #print(data_path)\n",
    "    nodes_list = []\n",
    "    try:\n",
    "        f = open(data_path, 'r') \n",
    "        content=f.readlines() \n",
    "        for index, item in enumerate(content):\n",
    "            row = item.lstrip()\n",
    "            #skip meta information\n",
    "            if(index < 3):\n",
    "                continue\n",
    "            else:\n",
    "                nodeInfo = item.split(' ')\n",
    "                nodeDic = {}\n",
    "                #nodeID\n",
    "                node_id = node_id_prefix + '_' + str(nodeInfo[0])\n",
    "                node_type = int(nodeInfo[1])\n",
    "                node_pos_x = float(nodeInfo[2])\n",
    "                node_pos_y = float(nodeInfo[3])\n",
    "                node_pos_z = float(nodeInfo[4])\n",
    "                node_radius = float(nodeInfo[5])\n",
    "                node_if_vr = 1 if node_radius == 1 else 0\n",
    "                node_parent = node_id_prefix + '_' + str(nodeInfo[6])\n",
    "                node_if_root = 1 if str(nodeInfo[6]) == '-1' else 0\n",
    "                #construct the node dic\n",
    "                nodeDic['node_id'] = node_id\n",
    "                nodeDic['node_type'] = node_type\n",
    "                nodeDic['node_pos_x'] = node_pos_x\n",
    "                nodeDic['node_pos_y'] = node_pos_y\n",
    "                nodeDic['node_pos_z'] = node_pos_z\n",
    "                nodeDic['node_radius'] = node_radius\n",
    "                nodeDic['node_if_vr'] = node_if_vr\n",
    "                nodeDic['node_parent'] = node_parent\n",
    "                nodeDic['node_if_root'] = node_if_root\n",
    "                nodes_list.append(nodeDic)\n",
    "    finally:\n",
    "        if f:\n",
    "            f.close()\n",
    "    return nodes_list\n",
    "    \n",
    "    \n",
    "def create_brain_network(region_path):\n",
    "    '''\n",
    "    create brain network by human annotations\n",
    "    @region_path: the name of brain regions\n",
    "    '''\n",
    "    anno_files = []\n",
    "    files = os.listdir(region_path)\n",
    "    for f in files:\n",
    "        file_format = f[-3:]\n",
    "        if(file_format == 'swc'):\n",
    "            anno_files.append(f)\n",
    "    #print(anno_files)\n",
    "    index_2_file_dic = {}\n",
    "    nodes_list = []\n",
    "    # create a index table to index the filename, create a dictionary to link its' name and index\n",
    "    for i in range(len(anno_files)):\n",
    "        file_index = 'F' + str(int(i)+int(1))\n",
    "        index_2_file_dic[file_index] = anno_files[i]\n",
    "        # parse annotation file\n",
    "        sub_nodes_list = parse_data(region_path+'/'+anno_files[i], file_index)\n",
    "        nodes_list = nodes_list + sub_nodes_list\n",
    "    # create the whole network in the specified region\n",
    "    df = pd.DataFrame(nodes_list)\n",
    "    df.to_csv('nodes_meta_info.csv',index=False, encoding='utf_8_sig')\n",
    "    brain_network = {}\n",
    "    links_list = []\n",
    "    for i in range(len(nodes_list)):\n",
    "        link_info = {}\n",
    "        source = nodes_list[i][\"node_id\"]\n",
    "        target = nodes_list[i][\"node_parent\"]\n",
    "        if_root = nodes_list[i][\"node_if_root\"]\n",
    "        radius = nodes_list[i][\"node_radius\"]\n",
    "        if(if_root != 1):\n",
    "            link_info['source'] = source\n",
    "            link_info['target'] = target\n",
    "            link_info['radius'] = radius\n",
    "        links_list.append(link_info)\n",
    "    brain_network[\"nodes\"] = nodes_list    \n",
    "    brain_network[\"links\"] = links_list   \n",
    "#     with open('result.json', 'w') as fp:\n",
    "#         json.dump(brain_network, fp)\n",
    "    return index_2_file_dic, df\n",
    "            \n",
    "\n",
    "def slice_brain_network(brain_network, slice_size):\n",
    "    '''\n",
    "    slice the brain region into small slices\n",
    "    1. find the bounding box of brain network \n",
    "    2. divie the bounding box into slices with volume = slice_size * slice_size * slice_size \n",
    "    3. compute the slice statistics\n",
    "    3.1 number of nodes\n",
    "    3.2 number of root nodes\n",
    "    3.3 ratio: VR / desktop\n",
    "    4. output slices into file (json)\n",
    "    '''\n",
    "    min_x = brain_network['node_pos_x'].min()\n",
    "    max_x = brain_network['node_pos_x'].max()\n",
    "    min_y = brain_network['node_pos_y'].min()\n",
    "    max_y = brain_network['node_pos_y'].max()\n",
    "    min_z = brain_network['node_pos_z'].min()\n",
    "    max_z = brain_network['node_pos_z'].max()\n",
    "    print(min_x, max_x)\n",
    "    print(min_y, max_y)\n",
    "    print(min_z, max_z)\n",
    "    # draw distribution\n",
    "#     sns.distplot( brain_network[\"node_pos_z\"], bins=50 )\n",
    "    # remove edges\n",
    "    min_x = math.ceil(min_x / slice_size) * slice_size\n",
    "    max_x = math.floor(max_x / slice_size) * slice_size\n",
    "    min_y = math.ceil(min_y / slice_size) * slice_size\n",
    "    max_y = math.floor(max_y / slice_size) * slice_size\n",
    "    min_z = math.ceil(min_z / slice_size) * slice_size\n",
    "    max_z = math.floor(max_z / slice_size) * slice_size\n",
    "    print(min_x, max_x)\n",
    "    print(min_y, max_y)\n",
    "    print(min_z, max_z)\n",
    "    slice_list = []\n",
    "    for x_index in range((int((max_x - min_x)/slice_size))):\n",
    "        for y_index in range((int((max_y - min_y)/slice_size))):\n",
    "            for z_index in range((int((max_z - min_z)/slice_size))):\n",
    "                x_range = [min_x + x_index*slice_size, min_x + slice_size*(x_index+1)]\n",
    "                y_range = [min_y + y_index*slice_size, min_y + slice_size*(y_index+1)]\n",
    "                z_range = [min_z + z_index*slice_size, min_z + slice_size*(z_index+1)]\n",
    "                #print(x_range, y_range, z_range)\n",
    "                # filter data by range\n",
    "                slice_data = brain_network.loc[(brain_network['node_pos_x'] >= x_range[0])\\\n",
    "                                              &(brain_network['node_pos_x'] < x_range[1])\\\n",
    "                                              &(brain_network['node_pos_y'] >= y_range[0])\\\n",
    "                                              &(brain_network['node_pos_y'] < y_range[1])\\\n",
    "                                              &(brain_network['node_pos_z'] >= z_range[0])\\\n",
    "                                              &(brain_network['node_pos_z'] < z_range[1])].reset_index(drop=True)\n",
    "                if(len(slice_data)!=0):\n",
    "                    filename = 'slice_x'+str(x_range[0])+'-'+str(x_range[1])\\\n",
    "                    +'_y'+str(y_range[0])+'-'+str(y_range[1])\\\n",
    "                    +'_z'+str(z_range[0])+'-'+str(z_range[1])\n",
    "                    slice_info = {}\n",
    "                    slice_info['filename'] = filename\n",
    "                    slice_info['min_x'] = x_range[0]\n",
    "                    slice_info['max_x'] = x_range[1]\n",
    "                    slice_info['min_y'] = y_range[0]\n",
    "                    slice_info['max_y'] = y_range[1]\n",
    "                    slice_info['min_z'] = z_range[0]\n",
    "                    slice_info['max_z'] = z_range[1]\n",
    "                    slice_info['num_of_nodes'] = len(slice_data)\n",
    "                    slice_info['num_of_VR'] = len(slice_data[slice_data['node_if_vr'] == 1])\n",
    "                    slice_info['num_of_desktop'] = len(slice_data[slice_data['node_if_vr'] == 0])\n",
    "                    if(slice_info['num_of_nodes'] != 0):\n",
    "                        slice_info['VR_ratio'] = float(slice_info['num_of_VR'] / slice_info['num_of_nodes'])\n",
    "                    else:\n",
    "                        slice_info['VR_ratio'] = 0\n",
    "                    #slice_data.to_csv('slice_data/'+filename+'.csv',index=False, encoding='utf_8_sig')\n",
    "                    slice_list.append(slice_info)\n",
    "    slice_df = pd.DataFrame(slice_list)\n",
    "    print('number of slices: ', len(slice_list))\n",
    "    slice_df.to_csv('slice_meta'+'_'+str(region_path)+'.csv',index=False, encoding='utf_8_sig')\n",
    "                \n",
    "    \n",
    "#17302_CPU \n",
    "region_path = 'Released20190315/17545/17545_CPU'\n",
    "index_2_file_dic, brain_network = create_brain_network(region_path)\n",
    "slice_brain_network(brain_network, 1000, region_path)"
   ]
  },
  {
   "cell_type": "code",
   "execution_count": 87,
   "metadata": {},
   "outputs": [
    {
     "data": {
      "text/plain": [
       "<matplotlib.axes._subplots.AxesSubplot at 0x1201cdbe0>"
      ]
     },
     "execution_count": 87,
     "metadata": {},
     "output_type": "execute_result"
    },
    {
     "data": {
      "image/png": "[encoded data removed]",
      "text/plain": [
       "<Figure size 432x288 with 1 Axes>"
      ]
     },
     "metadata": {
      "needs_background": "light"
     },
     "output_type": "display_data"
    }
   ],
   "source": [
    "slice_meta = pd.read_csv('slice_meta.csv', encoding = 'utf-8')\n",
    "sns.distplot( slice_meta[\"VR_ratio\"], bins=20 )"
   ]
  },
  {
   "cell_type": "code",
   "execution_count": null,
   "metadata": {},
   "outputs": [],
   "source": []
  }
 ],
 "metadata": {
  "kernelspec": {
   "display_name": "Python 3",
   "language": "python",
   "name": "python3"
  },
  "language_info": {
   "codemirror_mode": {
    "name": "ipython",
    "version": 3
   },
   "file_extension": ".py",
   "mimetype": "text/x-python",
   "name": "python",
   "nbconvert_exporter": "python",
   "pygments_lexer": "ipython3",
   "version": "3.6.9"
  },
  "toc": {
   "base_numbering": 1,
   "nav_menu": {},
   "number_sections": true,
   "sideBar": true,
   "skip_h1_title": false,
   "title_cell": "Table of Contents",
   "title_sidebar": "Contents",
   "toc_cell": false,
   "toc_position": {},
   "toc_section_display": true,
   "toc_window_display": false
  }
 },
 "nbformat": 4,
 "nbformat_minor": 2
}
